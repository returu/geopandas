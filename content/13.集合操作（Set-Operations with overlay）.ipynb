{
 "cells": [
  {
   "cell_type": "markdown",
   "id": "42bffef1",
   "metadata": {},
   "source": [
    "# 1.创建示例数据："
   ]
  },
  {
   "cell_type": "code",
   "execution_count": 1,
   "id": "af3dfcc1",
   "metadata": {},
   "outputs": [],
   "source": [
    "import geopandas as gpd\n",
    "from shapely.geometry import Polygon"
   ]
  },
  {
   "cell_type": "code",
   "execution_count": 2,
   "id": "4aed188e",
   "metadata": {},
   "outputs": [
    {
     "data": {
      "text/plain": [
       "0    POLYGON ((0.00000 0.00000, 2.00000 0.00000, 2....\n",
       "1    POLYGON ((2.00000 2.00000, 4.00000 2.00000, 4....\n",
       "dtype: geometry"
      ]
     },
     "execution_count": 2,
     "metadata": {},
     "output_type": "execute_result"
    }
   ],
   "source": [
    "polys1 = gpd.GeoSeries([Polygon([(0,0), (2,0), (2,2), (0,2)]),Polygon([(2,2), (4,2), (4,4), (2,4)])])\n",
    "polys1"
   ]
  },
  {
   "cell_type": "code",
   "execution_count": 3,
   "id": "7368af5c",
   "metadata": {},
   "outputs": [
    {
     "data": {
      "text/plain": [
       "0    POLYGON ((1.00000 1.00000, 3.00000 1.00000, 3....\n",
       "1    POLYGON ((3.00000 3.00000, 5.00000 3.00000, 5....\n",
       "dtype: geometry"
      ]
     },
     "execution_count": 3,
     "metadata": {},
     "output_type": "execute_result"
    }
   ],
   "source": [
    "polys2 = gpd.GeoSeries([Polygon([(1,1), (3,1), (3,3), (1,3)]),Polygon([(3,3), (5,3), (5,5), (3,5)])])\n",
    "polys2"
   ]
  },
  {
   "cell_type": "code",
   "execution_count": 4,
   "id": "d36425c0",
   "metadata": {},
   "outputs": [
    {
     "data": {
      "text/html": [
       "<div>\n",
       "<style scoped>\n",
       "    .dataframe tbody tr th:only-of-type {\n",
       "        vertical-align: middle;\n",
       "    }\n",
       "\n",
       "    .dataframe tbody tr th {\n",
       "        vertical-align: top;\n",
       "    }\n",
       "\n",
       "    .dataframe thead th {\n",
       "        text-align: right;\n",
       "    }\n",
       "</style>\n",
       "<table border=\"1\" class=\"dataframe\">\n",
       "  <thead>\n",
       "    <tr style=\"text-align: right;\">\n",
       "      <th></th>\n",
       "      <th>geometry</th>\n",
       "      <th>df1</th>\n",
       "    </tr>\n",
       "  </thead>\n",
       "  <tbody>\n",
       "    <tr>\n",
       "      <th>0</th>\n",
       "      <td>POLYGON ((0.00000 0.00000, 2.00000 0.00000, 2....</td>\n",
       "      <td>1</td>\n",
       "    </tr>\n",
       "    <tr>\n",
       "      <th>1</th>\n",
       "      <td>POLYGON ((2.00000 2.00000, 4.00000 2.00000, 4....</td>\n",
       "      <td>2</td>\n",
       "    </tr>\n",
       "  </tbody>\n",
       "</table>\n",
       "</div>"
      ],
      "text/plain": [
       "                                            geometry  df1\n",
       "0  POLYGON ((0.00000 0.00000, 2.00000 0.00000, 2....    1\n",
       "1  POLYGON ((2.00000 2.00000, 4.00000 2.00000, 4....    2"
      ]
     },
     "execution_count": 4,
     "metadata": {},
     "output_type": "execute_result"
    }
   ],
   "source": [
    "df1 = gpd.GeoDataFrame({'geometry': polys1, 'df1':[1,2]})\n",
    "df1"
   ]
  },
  {
   "cell_type": "code",
   "execution_count": 5,
   "id": "5d4266b7",
   "metadata": {},
   "outputs": [
    {
     "data": {
      "text/html": [
       "<div>\n",
       "<style scoped>\n",
       "    .dataframe tbody tr th:only-of-type {\n",
       "        vertical-align: middle;\n",
       "    }\n",
       "\n",
       "    .dataframe tbody tr th {\n",
       "        vertical-align: top;\n",
       "    }\n",
       "\n",
       "    .dataframe thead th {\n",
       "        text-align: right;\n",
       "    }\n",
       "</style>\n",
       "<table border=\"1\" class=\"dataframe\">\n",
       "  <thead>\n",
       "    <tr style=\"text-align: right;\">\n",
       "      <th></th>\n",
       "      <th>geometry</th>\n",
       "      <th>df2</th>\n",
       "    </tr>\n",
       "  </thead>\n",
       "  <tbody>\n",
       "    <tr>\n",
       "      <th>0</th>\n",
       "      <td>POLYGON ((1.00000 1.00000, 3.00000 1.00000, 3....</td>\n",
       "      <td>1</td>\n",
       "    </tr>\n",
       "    <tr>\n",
       "      <th>1</th>\n",
       "      <td>POLYGON ((3.00000 3.00000, 5.00000 3.00000, 5....</td>\n",
       "      <td>2</td>\n",
       "    </tr>\n",
       "  </tbody>\n",
       "</table>\n",
       "</div>"
      ],
      "text/plain": [
       "                                            geometry  df2\n",
       "0  POLYGON ((1.00000 1.00000, 3.00000 1.00000, 3....    1\n",
       "1  POLYGON ((3.00000 3.00000, 5.00000 3.00000, 5....    2"
      ]
     },
     "execution_count": 5,
     "metadata": {},
     "output_type": "execute_result"
    }
   ],
   "source": [
    "df2 = gpd.GeoDataFrame({'geometry': polys2, 'df2':[1,2]})\n",
    "df2"
   ]
  },
  {
   "cell_type": "markdown",
   "id": "8c5d7b47",
   "metadata": {},
   "source": [
    "### 这两个GeoDataFrames有一些重叠的区域。"
   ]
  },
  {
   "cell_type": "code",
   "execution_count": 6,
   "id": "e204bf6a",
   "metadata": {},
   "outputs": [
    {
     "data": {
      "text/plain": [
       "<AxesSubplot:>"
      ]
     },
     "execution_count": 6,
     "metadata": {},
     "output_type": "execute_result"
    },
    {
     "data": {
      "image/png": "[encoded data removed]",
      "text/plain": [
       "<Figure size 640x480 with 1 Axes>"
      ]
     },
     "metadata": {},
     "output_type": "display_data"
    }
   ],
   "source": [
    "ax = df1.plot(color='red')\n",
    "df2.plot(ax=ax, color='green', alpha=0.5)"
   ]
  },
  {
   "cell_type": "markdown",
   "id": "de0f000d",
   "metadata": {},
   "source": [
    "# 2.The different Overlay operations"
   ]
  },
  {
   "cell_type": "markdown",
   "id": "41bea437",
   "metadata": {},
   "source": [
    "### 当how=’union’"
   ]
  },
  {
   "cell_type": "code",
   "execution_count": 7,
   "id": "5914b860",
   "metadata": {},
   "outputs": [
    {
     "data": {
      "text/html": [
       "<div>\n",
       "<style scoped>\n",
       "    .dataframe tbody tr th:only-of-type {\n",
       "        vertical-align: middle;\n",
       "    }\n",
       "\n",
       "    .dataframe tbody tr th {\n",
       "        vertical-align: top;\n",
       "    }\n",
       "\n",
       "    .dataframe thead th {\n",
       "        text-align: right;\n",
       "    }\n",
       "</style>\n",
       "<table border=\"1\" class=\"dataframe\">\n",
       "  <thead>\n",
       "    <tr style=\"text-align: right;\">\n",
       "      <th></th>\n",
       "      <th>df1</th>\n",
       "      <th>df2</th>\n",
       "      <th>geometry</th>\n",
       "    </tr>\n",
       "  </thead>\n",
       "  <tbody>\n",
       "    <tr>\n",
       "      <th>0</th>\n",
       "      <td>1.0</td>\n",
       "      <td>1.0</td>\n",
       "      <td>POLYGON ((2.00000 2.00000, 2.00000 1.00000, 1....</td>\n",
       "    </tr>\n",
       "    <tr>\n",
       "      <th>1</th>\n",
       "      <td>2.0</td>\n",
       "      <td>1.0</td>\n",
       "      <td>POLYGON ((2.00000 2.00000, 2.00000 3.00000, 3....</td>\n",
       "    </tr>\n",
       "    <tr>\n",
       "      <th>2</th>\n",
       "      <td>2.0</td>\n",
       "      <td>2.0</td>\n",
       "      <td>POLYGON ((4.00000 4.00000, 4.00000 3.00000, 3....</td>\n",
       "    </tr>\n",
       "    <tr>\n",
       "      <th>3</th>\n",
       "      <td>1.0</td>\n",
       "      <td>NaN</td>\n",
       "      <td>POLYGON ((2.00000 0.00000, 0.00000 0.00000, 0....</td>\n",
       "    </tr>\n",
       "    <tr>\n",
       "      <th>4</th>\n",
       "      <td>2.0</td>\n",
       "      <td>NaN</td>\n",
       "      <td>MULTIPOLYGON (((3.00000 3.00000, 4.00000 3.000...</td>\n",
       "    </tr>\n",
       "    <tr>\n",
       "      <th>5</th>\n",
       "      <td>NaN</td>\n",
       "      <td>1.0</td>\n",
       "      <td>MULTIPOLYGON (((2.00000 2.00000, 3.00000 2.000...</td>\n",
       "    </tr>\n",
       "    <tr>\n",
       "      <th>6</th>\n",
       "      <td>NaN</td>\n",
       "      <td>2.0</td>\n",
       "      <td>POLYGON ((3.00000 5.00000, 5.00000 5.00000, 5....</td>\n",
       "    </tr>\n",
       "  </tbody>\n",
       "</table>\n",
       "</div>"
      ],
      "text/plain": [
       "   df1  df2                                           geometry\n",
       "0  1.0  1.0  POLYGON ((2.00000 2.00000, 2.00000 1.00000, 1....\n",
       "1  2.0  1.0  POLYGON ((2.00000 2.00000, 2.00000 3.00000, 3....\n",
       "2  2.0  2.0  POLYGON ((4.00000 4.00000, 4.00000 3.00000, 3....\n",
       "3  1.0  NaN  POLYGON ((2.00000 0.00000, 0.00000 0.00000, 0....\n",
       "4  2.0  NaN  MULTIPOLYGON (((3.00000 3.00000, 4.00000 3.000...\n",
       "5  NaN  1.0  MULTIPOLYGON (((2.00000 2.00000, 3.00000 2.000...\n",
       "6  NaN  2.0  POLYGON ((3.00000 5.00000, 5.00000 5.00000, 5...."
      ]
     },
     "execution_count": 7,
     "metadata": {},
     "output_type": "execute_result"
    }
   ],
   "source": [
    "res_union = df1.overlay(df2 , how=\"union\")\n",
    "res_union"
   ]
  },
  {
   "cell_type": "code",
   "execution_count": 8,
   "id": "dce4bcdf",
   "metadata": {},
   "outputs": [
    {
     "data": {
      "text/plain": [
       "<AxesSubplot:>"
      ]
     },
     "execution_count": 8,
     "metadata": {},
     "output_type": "execute_result"
    },
    {
     "data": {
      "image/png": "[encoded data removed]",
      "text/plain": [
       "<Figure size 640x480 with 1 Axes>"
      ]
     },
     "metadata": {},
     "output_type": "display_data"
    }
   ],
   "source": [
    "ax = res_union.plot(alpha=0.5, cmap='tab10')\n",
    "\n",
    "df1.plot(ax=ax, facecolor='none', edgecolor='k')\n",
    "df2.plot(ax=ax, facecolor='none', edgecolor='k')"
   ]
  },
  {
   "cell_type": "markdown",
   "id": "f00c6bd8",
   "metadata": {},
   "source": [
    "### how=’intersection’"
   ]
  },
  {
   "cell_type": "code",
   "execution_count": 9,
   "id": "65f4c5ed",
   "metadata": {},
   "outputs": [
    {
     "data": {
      "text/html": [
       "<div>\n",
       "<style scoped>\n",
       "    .dataframe tbody tr th:only-of-type {\n",
       "        vertical-align: middle;\n",
       "    }\n",
       "\n",
       "    .dataframe tbody tr th {\n",
       "        vertical-align: top;\n",
       "    }\n",
       "\n",
       "    .dataframe thead th {\n",
       "        text-align: right;\n",
       "    }\n",
       "</style>\n",
       "<table border=\"1\" class=\"dataframe\">\n",
       "  <thead>\n",
       "    <tr style=\"text-align: right;\">\n",
       "      <th></th>\n",
       "      <th>df1</th>\n",
       "      <th>df2</th>\n",
       "      <th>geometry</th>\n",
       "    </tr>\n",
       "  </thead>\n",
       "  <tbody>\n",
       "    <tr>\n",
       "      <th>0</th>\n",
       "      <td>1</td>\n",
       "      <td>1</td>\n",
       "      <td>POLYGON ((2.00000 2.00000, 2.00000 1.00000, 1....</td>\n",
       "    </tr>\n",
       "    <tr>\n",
       "      <th>1</th>\n",
       "      <td>2</td>\n",
       "      <td>1</td>\n",
       "      <td>POLYGON ((2.00000 2.00000, 2.00000 3.00000, 3....</td>\n",
       "    </tr>\n",
       "    <tr>\n",
       "      <th>2</th>\n",
       "      <td>2</td>\n",
       "      <td>2</td>\n",
       "      <td>POLYGON ((4.00000 4.00000, 4.00000 3.00000, 3....</td>\n",
       "    </tr>\n",
       "  </tbody>\n",
       "</table>\n",
       "</div>"
      ],
      "text/plain": [
       "   df1  df2                                           geometry\n",
       "0    1    1  POLYGON ((2.00000 2.00000, 2.00000 1.00000, 1....\n",
       "1    2    1  POLYGON ((2.00000 2.00000, 2.00000 3.00000, 3....\n",
       "2    2    2  POLYGON ((4.00000 4.00000, 4.00000 3.00000, 3...."
      ]
     },
     "execution_count": 9,
     "metadata": {},
     "output_type": "execute_result"
    }
   ],
   "source": [
    "res_intersection = df1.overlay(df2, how='intersection')\n",
    "res_intersection"
   ]
  },
  {
   "cell_type": "code",
   "execution_count": 10,
   "id": "1f639c91",
   "metadata": {},
   "outputs": [
    {
     "data": {
      "text/plain": [
       "<AxesSubplot:>"
      ]
     },
     "execution_count": 10,
     "metadata": {},
     "output_type": "execute_result"
    },
    {
     "data": {
      "image/png": "[encoded data removed]",
      "text/plain": [
       "<Figure size 640x480 with 1 Axes>"
      ]
     },
     "metadata": {},
     "output_type": "display_data"
    }
   ],
   "source": [
    "ax = res_intersection.plot(cmap='tab10')\n",
    "\n",
    "df1.plot(ax=ax, facecolor='none', edgecolor='k')\n",
    "df2.plot(ax=ax, facecolor='none', edgecolor='k')"
   ]
  },
  {
   "cell_type": "markdown",
   "id": "e754045a",
   "metadata": {},
   "source": [
    "### how=’symmetric_difference’"
   ]
  },
  {
   "cell_type": "code",
   "execution_count": 11,
   "id": "3b2f7a59",
   "metadata": {},
   "outputs": [
    {
     "data": {
      "text/html": [
       "<div>\n",
       "<style scoped>\n",
       "    .dataframe tbody tr th:only-of-type {\n",
       "        vertical-align: middle;\n",
       "    }\n",
       "\n",
       "    .dataframe tbody tr th {\n",
       "        vertical-align: top;\n",
       "    }\n",
       "\n",
       "    .dataframe thead th {\n",
       "        text-align: right;\n",
       "    }\n",
       "</style>\n",
       "<table border=\"1\" class=\"dataframe\">\n",
       "  <thead>\n",
       "    <tr style=\"text-align: right;\">\n",
       "      <th></th>\n",
       "      <th>df1</th>\n",
       "      <th>df2</th>\n",
       "      <th>geometry</th>\n",
       "    </tr>\n",
       "  </thead>\n",
       "  <tbody>\n",
       "    <tr>\n",
       "      <th>0</th>\n",
       "      <td>1.0</td>\n",
       "      <td>NaN</td>\n",
       "      <td>POLYGON ((2.00000 0.00000, 0.00000 0.00000, 0....</td>\n",
       "    </tr>\n",
       "    <tr>\n",
       "      <th>1</th>\n",
       "      <td>2.0</td>\n",
       "      <td>NaN</td>\n",
       "      <td>MULTIPOLYGON (((3.00000 3.00000, 4.00000 3.000...</td>\n",
       "    </tr>\n",
       "    <tr>\n",
       "      <th>2</th>\n",
       "      <td>NaN</td>\n",
       "      <td>1.0</td>\n",
       "      <td>MULTIPOLYGON (((2.00000 2.00000, 3.00000 2.000...</td>\n",
       "    </tr>\n",
       "    <tr>\n",
       "      <th>3</th>\n",
       "      <td>NaN</td>\n",
       "      <td>2.0</td>\n",
       "      <td>POLYGON ((3.00000 5.00000, 5.00000 5.00000, 5....</td>\n",
       "    </tr>\n",
       "  </tbody>\n",
       "</table>\n",
       "</div>"
      ],
      "text/plain": [
       "   df1  df2                                           geometry\n",
       "0  1.0  NaN  POLYGON ((2.00000 0.00000, 0.00000 0.00000, 0....\n",
       "1  2.0  NaN  MULTIPOLYGON (((3.00000 3.00000, 4.00000 3.000...\n",
       "2  NaN  1.0  MULTIPOLYGON (((2.00000 2.00000, 3.00000 2.000...\n",
       "3  NaN  2.0  POLYGON ((3.00000 5.00000, 5.00000 5.00000, 5...."
      ]
     },
     "execution_count": 11,
     "metadata": {},
     "output_type": "execute_result"
    }
   ],
   "source": [
    "res_symdiff = df1.overlay(df2, how='symmetric_difference')\n",
    "res_symdiff"
   ]
  },
  {
   "cell_type": "code",
   "execution_count": 12,
   "id": "10f44d1e",
   "metadata": {},
   "outputs": [
    {
     "data": {
      "text/plain": [
       "<AxesSubplot:>"
      ]
     },
     "execution_count": 12,
     "metadata": {},
     "output_type": "execute_result"
    },
    {
     "data": {
      "image/png": "[encoded data removed]",
      "text/plain": [
       "<Figure size 640x480 with 1 Axes>"
      ]
     },
     "metadata": {},
     "output_type": "display_data"
    }
   ],
   "source": [
    "ax = res_symdiff.plot(cmap='tab10')\n",
    "\n",
    "df1.plot(ax=ax, facecolor='none', edgecolor='k')\n",
    "df2.plot(ax=ax, facecolor='none', edgecolor='k')"
   ]
  },
  {
   "cell_type": "markdown",
   "id": "992013ec",
   "metadata": {},
   "source": [
    "### how=’difference’"
   ]
  },
  {
   "cell_type": "code",
   "execution_count": 13,
   "id": "73a831dc",
   "metadata": {},
   "outputs": [
    {
     "data": {
      "text/html": [
       "<div>\n",
       "<style scoped>\n",
       "    .dataframe tbody tr th:only-of-type {\n",
       "        vertical-align: middle;\n",
       "    }\n",
       "\n",
       "    .dataframe tbody tr th {\n",
       "        vertical-align: top;\n",
       "    }\n",
       "\n",
       "    .dataframe thead th {\n",
       "        text-align: right;\n",
       "    }\n",
       "</style>\n",
       "<table border=\"1\" class=\"dataframe\">\n",
       "  <thead>\n",
       "    <tr style=\"text-align: right;\">\n",
       "      <th></th>\n",
       "      <th>geometry</th>\n",
       "      <th>df1</th>\n",
       "    </tr>\n",
       "  </thead>\n",
       "  <tbody>\n",
       "    <tr>\n",
       "      <th>0</th>\n",
       "      <td>POLYGON ((2.00000 0.00000, 0.00000 0.00000, 0....</td>\n",
       "      <td>1</td>\n",
       "    </tr>\n",
       "    <tr>\n",
       "      <th>1</th>\n",
       "      <td>MULTIPOLYGON (((3.00000 3.00000, 4.00000 3.000...</td>\n",
       "      <td>2</td>\n",
       "    </tr>\n",
       "  </tbody>\n",
       "</table>\n",
       "</div>"
      ],
      "text/plain": [
       "                                            geometry  df1\n",
       "0  POLYGON ((2.00000 0.00000, 0.00000 0.00000, 0....    1\n",
       "1  MULTIPOLYGON (((3.00000 3.00000, 4.00000 3.000...    2"
      ]
     },
     "execution_count": 13,
     "metadata": {},
     "output_type": "execute_result"
    }
   ],
   "source": [
    "res_difference = df1.overlay(df2, how='difference')\n",
    "res_difference"
   ]
  },
  {
   "cell_type": "code",
   "execution_count": 14,
   "id": "9f88dffb",
   "metadata": {},
   "outputs": [
    {
     "data": {
      "text/plain": [
       "<AxesSubplot:>"
      ]
     },
     "execution_count": 14,
     "metadata": {},
     "output_type": "execute_result"
    },
    {
     "data": {
      "image/png": "[encoded data removed]",
      "text/plain": [
       "<Figure size 640x480 with 1 Axes>"
      ]
     },
     "metadata": {},
     "output_type": "display_data"
    }
   ],
   "source": [
    "ax = res_difference.plot(cmap='tab10')\n",
    "\n",
    "df1.plot(ax=ax, facecolor='none', edgecolor='k')\n",
    "df2.plot(ax=ax, facecolor='none', edgecolor='k')"
   ]
  },
  {
   "cell_type": "markdown",
   "id": "8a5ab376",
   "metadata": {},
   "source": [
    "### how=’identity’"
   ]
  },
  {
   "cell_type": "code",
   "execution_count": 15,
   "id": "85dce991",
   "metadata": {},
   "outputs": [
    {
     "data": {
      "text/html": [
       "<div>\n",
       "<style scoped>\n",
       "    .dataframe tbody tr th:only-of-type {\n",
       "        vertical-align: middle;\n",
       "    }\n",
       "\n",
       "    .dataframe tbody tr th {\n",
       "        vertical-align: top;\n",
       "    }\n",
       "\n",
       "    .dataframe thead th {\n",
       "        text-align: right;\n",
       "    }\n",
       "</style>\n",
       "<table border=\"1\" class=\"dataframe\">\n",
       "  <thead>\n",
       "    <tr style=\"text-align: right;\">\n",
       "      <th></th>\n",
       "      <th>df1</th>\n",
       "      <th>df2</th>\n",
       "      <th>geometry</th>\n",
       "    </tr>\n",
       "  </thead>\n",
       "  <tbody>\n",
       "    <tr>\n",
       "      <th>0</th>\n",
       "      <td>1.0</td>\n",
       "      <td>1.0</td>\n",
       "      <td>POLYGON ((2.00000 2.00000, 2.00000 1.00000, 1....</td>\n",
       "    </tr>\n",
       "    <tr>\n",
       "      <th>1</th>\n",
       "      <td>2.0</td>\n",
       "      <td>1.0</td>\n",
       "      <td>POLYGON ((2.00000 2.00000, 2.00000 3.00000, 3....</td>\n",
       "    </tr>\n",
       "    <tr>\n",
       "      <th>2</th>\n",
       "      <td>2.0</td>\n",
       "      <td>2.0</td>\n",
       "      <td>POLYGON ((4.00000 4.00000, 4.00000 3.00000, 3....</td>\n",
       "    </tr>\n",
       "    <tr>\n",
       "      <th>3</th>\n",
       "      <td>1.0</td>\n",
       "      <td>NaN</td>\n",
       "      <td>POLYGON ((2.00000 0.00000, 0.00000 0.00000, 0....</td>\n",
       "    </tr>\n",
       "    <tr>\n",
       "      <th>4</th>\n",
       "      <td>2.0</td>\n",
       "      <td>NaN</td>\n",
       "      <td>MULTIPOLYGON (((3.00000 3.00000, 4.00000 3.000...</td>\n",
       "    </tr>\n",
       "  </tbody>\n",
       "</table>\n",
       "</div>"
      ],
      "text/plain": [
       "   df1  df2                                           geometry\n",
       "0  1.0  1.0  POLYGON ((2.00000 2.00000, 2.00000 1.00000, 1....\n",
       "1  2.0  1.0  POLYGON ((2.00000 2.00000, 2.00000 3.00000, 3....\n",
       "2  2.0  2.0  POLYGON ((4.00000 4.00000, 4.00000 3.00000, 3....\n",
       "3  1.0  NaN  POLYGON ((2.00000 0.00000, 0.00000 0.00000, 0....\n",
       "4  2.0  NaN  MULTIPOLYGON (((3.00000 3.00000, 4.00000 3.000..."
      ]
     },
     "execution_count": 15,
     "metadata": {},
     "output_type": "execute_result"
    }
   ],
   "source": [
    "res_identity = df1.overlay(df2, how='identity')\n",
    "res_identity"
   ]
  },
  {
   "cell_type": "code",
   "execution_count": 16,
   "id": "3592c7e2",
   "metadata": {},
   "outputs": [
    {
     "data": {
      "text/plain": [
       "<AxesSubplot:>"
      ]
     },
     "execution_count": 16,
     "metadata": {},
     "output_type": "execute_result"
    },
    {
     "data": {
      "image/png": "[encoded data removed]",
      "text/plain": [
       "<Figure size 640x480 with 1 Axes>"
      ]
     },
     "metadata": {},
     "output_type": "display_data"
    }
   ],
   "source": [
    "ax = res_identity.plot(cmap='tab10')\n",
    "\n",
    "df1.plot(ax=ax, facecolor='none', edgecolor='k')\n",
    "df2.plot(ax=ax, facecolor='none', edgecolor='k')"
   ]
  },
  {
   "cell_type": "markdown",
   "id": "fef68f95",
   "metadata": {},
   "source": [
    "# 3.Overlay Countries Example"
   ]
  },
  {
   "cell_type": "markdown",
   "id": "d4665d24",
   "metadata": {},
   "source": [
    "### 首先，加载国家和城市示例数据集并进行筛选："
   ]
  },
  {
   "cell_type": "code",
   "execution_count": 17,
   "id": "38e4e891",
   "metadata": {},
   "outputs": [],
   "source": [
    "world = gpd.read_file('./datasets/naturalearth_lowres/naturalearth_lowres.shp')\n",
    "capitals = gpd.read_file('./datasets/naturalearth_cities/naturalearth_cities.shp')"
   ]
  },
  {
   "cell_type": "code",
   "execution_count": 18,
   "id": "4e671618",
   "metadata": {},
   "outputs": [],
   "source": [
    "# 选择南美洲\n",
    "countries = world[world['continent'] == \"South America\"]"
   ]
  },
  {
   "cell_type": "code",
   "execution_count": 19,
   "id": "9153b852",
   "metadata": {},
   "outputs": [],
   "source": [
    "# 只选择两列数据\n",
    "countries = countries[['geometry', 'name']]"
   ]
  },
  {
   "cell_type": "code",
   "execution_count": 20,
   "id": "a16b13fe",
   "metadata": {},
   "outputs": [],
   "source": [
    "# 转换为投影坐标系\n",
    "countries = countries.to_crs('epsg:3395')\n",
    "\n",
    "capitals = capitals.to_crs('epsg:3395')"
   ]
  },
  {
   "cell_type": "code",
   "execution_count": 21,
   "id": "565f7cab",
   "metadata": {},
   "outputs": [
    {
     "data": {
      "text/html": [
       "<div>\n",
       "<style scoped>\n",
       "    .dataframe tbody tr th:only-of-type {\n",
       "        vertical-align: middle;\n",
       "    }\n",
       "\n",
       "    .dataframe tbody tr th {\n",
       "        vertical-align: top;\n",
       "    }\n",
       "\n",
       "    .dataframe thead th {\n",
       "        text-align: right;\n",
       "    }\n",
       "</style>\n",
       "<table border=\"1\" class=\"dataframe\">\n",
       "  <thead>\n",
       "    <tr style=\"text-align: right;\">\n",
       "      <th></th>\n",
       "      <th>geometry</th>\n",
       "      <th>name</th>\n",
       "    </tr>\n",
       "  </thead>\n",
       "  <tbody>\n",
       "    <tr>\n",
       "      <th>9</th>\n",
       "      <td>MULTIPOLYGON (((-7640303.070 -6882033.443, -75...</td>\n",
       "      <td>Argentina</td>\n",
       "    </tr>\n",
       "    <tr>\n",
       "      <th>10</th>\n",
       "      <td>MULTIPOLYGON (((-7640303.070 -6882033.443, -76...</td>\n",
       "      <td>Chile</td>\n",
       "    </tr>\n",
       "    <tr>\n",
       "      <th>20</th>\n",
       "      <td>POLYGON ((-6812752.837 -6739425.098, -6679169....</td>\n",
       "      <td>Falkland Is.</td>\n",
       "    </tr>\n",
       "    <tr>\n",
       "      <th>28</th>\n",
       "      <td>POLYGON ((-6414800.510 -3509882.507, -6342542....</td>\n",
       "      <td>Uruguay</td>\n",
       "    </tr>\n",
       "    <tr>\n",
       "      <th>29</th>\n",
       "      <td>POLYGON ((-5941528.839 -3973993.738, -5972351....</td>\n",
       "      <td>Brazil</td>\n",
       "    </tr>\n",
       "    <tr>\n",
       "      <th>30</th>\n",
       "      <td>POLYGON ((-7740008.362 -1218521.331, -7657240....</td>\n",
       "      <td>Bolivia</td>\n",
       "    </tr>\n",
       "    <tr>\n",
       "      <th>31</th>\n",
       "      <td>POLYGON ((-7780523.882 -475721.281, -7880837.6...</td>\n",
       "      <td>Peru</td>\n",
       "    </tr>\n",
       "    <tr>\n",
       "      <th>32</th>\n",
       "      <td>POLYGON ((-7444638.540 138600.632, -7465647.01...</td>\n",
       "      <td>Colombia</td>\n",
       "    </tr>\n",
       "    <tr>\n",
       "      <th>40</th>\n",
       "      <td>POLYGON ((-6760830.552 575818.568, -6746092.40...</td>\n",
       "      <td>Venezuela</td>\n",
       "    </tr>\n",
       "    <tr>\n",
       "      <th>41</th>\n",
       "      <td>POLYGON ((-6293935.631 210077.339, -6321021.72...</td>\n",
       "      <td>Guyana</td>\n",
       "    </tr>\n",
       "    <tr>\n",
       "      <th>42</th>\n",
       "      <td>POLYGON ((-6069667.873 255701.335, -6133435.37...</td>\n",
       "      <td>Suriname</td>\n",
       "    </tr>\n",
       "    <tr>\n",
       "      <th>44</th>\n",
       "      <td>POLYGON ((-8390508.830 -16810.821, -8374979.70...</td>\n",
       "      <td>Ecuador</td>\n",
       "    </tr>\n",
       "    <tr>\n",
       "      <th>155</th>\n",
       "      <td>POLYGON ((-6475053.181 -2279244.325, -6442133....</td>\n",
       "      <td>Paraguay</td>\n",
       "    </tr>\n",
       "  </tbody>\n",
       "</table>\n",
       "</div>"
      ],
      "text/plain": [
       "                                              geometry          name\n",
       "9    MULTIPOLYGON (((-7640303.070 -6882033.443, -75...     Argentina\n",
       "10   MULTIPOLYGON (((-7640303.070 -6882033.443, -76...         Chile\n",
       "20   POLYGON ((-6812752.837 -6739425.098, -6679169....  Falkland Is.\n",
       "28   POLYGON ((-6414800.510 -3509882.507, -6342542....       Uruguay\n",
       "29   POLYGON ((-5941528.839 -3973993.738, -5972351....        Brazil\n",
       "30   POLYGON ((-7740008.362 -1218521.331, -7657240....       Bolivia\n",
       "31   POLYGON ((-7780523.882 -475721.281, -7880837.6...          Peru\n",
       "32   POLYGON ((-7444638.540 138600.632, -7465647.01...      Colombia\n",
       "40   POLYGON ((-6760830.552 575818.568, -6746092.40...     Venezuela\n",
       "41   POLYGON ((-6293935.631 210077.339, -6321021.72...        Guyana\n",
       "42   POLYGON ((-6069667.873 255701.335, -6133435.37...      Suriname\n",
       "44   POLYGON ((-8390508.830 -16810.821, -8374979.70...       Ecuador\n",
       "155  POLYGON ((-6475053.181 -2279244.325, -6442133....      Paraguay"
      ]
     },
     "execution_count": 21,
     "metadata": {},
     "output_type": "execute_result"
    }
   ],
   "source": [
    "countries"
   ]
  },
  {
   "cell_type": "code",
   "execution_count": 22,
   "id": "f083e0e7",
   "metadata": {},
   "outputs": [
    {
     "data": {
      "text/plain": [
       "<AxesSubplot:>"
      ]
     },
     "execution_count": 22,
     "metadata": {},
     "output_type": "execute_result"
    },
    {
     "data": {
      "image/png": "[encoded data removed]",
      "text/plain": [
       "<Figure size 640x480 with 1 Axes>"
      ]
     },
     "metadata": {},
     "output_type": "display_data"
    }
   ],
   "source": [
    "countries.plot()"
   ]
  },
  {
   "cell_type": "code",
   "execution_count": 23,
   "id": "6a01b1b0",
   "metadata": {},
   "outputs": [
    {
     "data": {
      "text/html": [
       "<div>\n",
       "<style scoped>\n",
       "    .dataframe tbody tr th:only-of-type {\n",
       "        vertical-align: middle;\n",
       "    }\n",
       "\n",
       "    .dataframe tbody tr th {\n",
       "        vertical-align: top;\n",
       "    }\n",
       "\n",
       "    .dataframe thead th {\n",
       "        text-align: right;\n",
       "    }\n",
       "</style>\n",
       "<table border=\"1\" class=\"dataframe\">\n",
       "  <thead>\n",
       "    <tr style=\"text-align: right;\">\n",
       "      <th></th>\n",
       "      <th>name</th>\n",
       "      <th>geometry</th>\n",
       "    </tr>\n",
       "  </thead>\n",
       "  <tbody>\n",
       "    <tr>\n",
       "      <th>0</th>\n",
       "      <td>Vatican City</td>\n",
       "      <td>POINT (1386304.644 5117957.427)</td>\n",
       "    </tr>\n",
       "    <tr>\n",
       "      <th>1</th>\n",
       "      <td>San Marino</td>\n",
       "      <td>POINT (1385011.523 5425900.271)</td>\n",
       "    </tr>\n",
       "    <tr>\n",
       "      <th>2</th>\n",
       "      <td>Vaduz</td>\n",
       "      <td>POINT (1059390.803 5932596.005)</td>\n",
       "    </tr>\n",
       "    <tr>\n",
       "      <th>3</th>\n",
       "      <td>Lobamba</td>\n",
       "      <td>POINT (3473167.790 -3037957.646)</td>\n",
       "    </tr>\n",
       "    <tr>\n",
       "      <th>4</th>\n",
       "      <td>Luxembourg</td>\n",
       "      <td>POINT (682388.790 6346728.175)</td>\n",
       "    </tr>\n",
       "    <tr>\n",
       "      <th>...</th>\n",
       "      <td>...</td>\n",
       "      <td>...</td>\n",
       "    </tr>\n",
       "    <tr>\n",
       "      <th>238</th>\n",
       "      <td>Rio de Janeiro</td>\n",
       "      <td>POINT (-4810350.913 -2604187.631)</td>\n",
       "    </tr>\n",
       "    <tr>\n",
       "      <th>239</th>\n",
       "      <td>São Paulo</td>\n",
       "      <td>POINT (-5190490.090 -2682415.950)</td>\n",
       "    </tr>\n",
       "    <tr>\n",
       "      <th>240</th>\n",
       "      <td>Sydney</td>\n",
       "      <td>POINT (16832903.820 -3987730.441)</td>\n",
       "    </tr>\n",
       "    <tr>\n",
       "      <th>241</th>\n",
       "      <td>Singapore</td>\n",
       "      <td>POINT (11560960.460 143203.754)</td>\n",
       "    </tr>\n",
       "    <tr>\n",
       "      <th>242</th>\n",
       "      <td>Hong Kong</td>\n",
       "      <td>POINT (12710800.486 2532203.690)</td>\n",
       "    </tr>\n",
       "  </tbody>\n",
       "</table>\n",
       "<p>243 rows × 2 columns</p>\n",
       "</div>"
      ],
      "text/plain": [
       "               name                           geometry\n",
       "0      Vatican City    POINT (1386304.644 5117957.427)\n",
       "1        San Marino    POINT (1385011.523 5425900.271)\n",
       "2             Vaduz    POINT (1059390.803 5932596.005)\n",
       "3           Lobamba   POINT (3473167.790 -3037957.646)\n",
       "4        Luxembourg     POINT (682388.790 6346728.175)\n",
       "..              ...                                ...\n",
       "238  Rio de Janeiro  POINT (-4810350.913 -2604187.631)\n",
       "239       São Paulo  POINT (-5190490.090 -2682415.950)\n",
       "240          Sydney  POINT (16832903.820 -3987730.441)\n",
       "241       Singapore    POINT (11560960.460 143203.754)\n",
       "242       Hong Kong   POINT (12710800.486 2532203.690)\n",
       "\n",
       "[243 rows x 2 columns]"
      ]
     },
     "execution_count": 23,
     "metadata": {},
     "output_type": "execute_result"
    }
   ],
   "source": [
    "capitals"
   ]
  },
  {
   "cell_type": "code",
   "execution_count": 24,
   "id": "954a9501",
   "metadata": {},
   "outputs": [
    {
     "data": {
      "text/plain": [
       "<AxesSubplot:>"
      ]
     },
     "execution_count": 24,
     "metadata": {},
     "output_type": "execute_result"
    },
    {
     "data": {
      "image/png": "[encoded data removed]",
      "text/plain": [
       "<Figure size 1000x800 with 1 Axes>"
      ]
     },
     "metadata": {},
     "output_type": "display_data"
    }
   ],
   "source": [
    "ax = countries.plot(figsize=(10,8))\n",
    "capitals.plot(ax=ax ,color=\"k\" , markersize=12)"
   ]
  },
  {
   "cell_type": "markdown",
   "id": "9006dcb7",
   "metadata": {},
   "source": [
    "### 假设我们希望使用国家 GeoDataFrame 和首都 GeoDataFrame 来识别每个国家的“核心”部分——定义为首都 500 公里以内的区域。"
   ]
  },
  {
   "cell_type": "code",
   "execution_count": 25,
   "id": "60fadd96",
   "metadata": {},
   "outputs": [],
   "source": [
    "# 生成 500km 缓冲区\n",
    "capitals['geometry']= capitals.buffer(500000)"
   ]
  },
  {
   "cell_type": "code",
   "execution_count": 26,
   "id": "2dfa117f",
   "metadata": {},
   "outputs": [
    {
     "data": {
      "text/plain": [
       "<AxesSubplot:>"
      ]
     },
     "execution_count": 26,
     "metadata": {},
     "output_type": "execute_result"
    },
    {
     "data": {
      "image/png": "[encoded data removed]",
      "text/plain": [
       "<Figure size 640x480 with 1 Axes>"
      ]
     },
     "metadata": {},
     "output_type": "display_data"
    }
   ],
   "source": [
    "capitals.plot()"
   ]
  },
  {
   "cell_type": "markdown",
   "id": "423424d4",
   "metadata": {},
   "source": [
    "### 为了只选择首都500公里范围内的国家部分，我们指定how='intersection'，这将在这两层重叠的地方创建一个新的多边形集合。"
   ]
  },
  {
   "cell_type": "code",
   "execution_count": 27,
   "id": "fd11e6e4",
   "metadata": {},
   "outputs": [
    {
     "data": {
      "text/html": [
       "<div>\n",
       "<style scoped>\n",
       "    .dataframe tbody tr th:only-of-type {\n",
       "        vertical-align: middle;\n",
       "    }\n",
       "\n",
       "    .dataframe tbody tr th {\n",
       "        vertical-align: top;\n",
       "    }\n",
       "\n",
       "    .dataframe thead th {\n",
       "        text-align: right;\n",
       "    }\n",
       "</style>\n",
       "<table border=\"1\" class=\"dataframe\">\n",
       "  <thead>\n",
       "    <tr style=\"text-align: right;\">\n",
       "      <th></th>\n",
       "      <th>name_1</th>\n",
       "      <th>name_2</th>\n",
       "      <th>geometry</th>\n",
       "    </tr>\n",
       "  </thead>\n",
       "  <tbody>\n",
       "    <tr>\n",
       "      <th>0</th>\n",
       "      <td>Argentina</td>\n",
       "      <td>Montevideo</td>\n",
       "      <td>POLYGON ((-6472386.854 -3746485.160, -6471296....</td>\n",
       "    </tr>\n",
       "    <tr>\n",
       "      <th>1</th>\n",
       "      <td>Uruguay</td>\n",
       "      <td>Montevideo</td>\n",
       "      <td>POLYGON ((-6074977.517 -3674819.184, -5987647....</td>\n",
       "    </tr>\n",
       "    <tr>\n",
       "      <th>2</th>\n",
       "      <td>Brazil</td>\n",
       "      <td>Montevideo</td>\n",
       "      <td>POLYGON ((-5972351.238 -3898750.836, -5923264....</td>\n",
       "    </tr>\n",
       "    <tr>\n",
       "      <th>3</th>\n",
       "      <td>Argentina</td>\n",
       "      <td>Asunción</td>\n",
       "      <td>POLYGON ((-6773408.599 -2721587.353, -6682393....</td>\n",
       "    </tr>\n",
       "    <tr>\n",
       "      <th>4</th>\n",
       "      <td>Brazil</td>\n",
       "      <td>Asunción</td>\n",
       "      <td>POLYGON ((-6266274.282 -3336304.139, -6140637....</td>\n",
       "    </tr>\n",
       "  </tbody>\n",
       "</table>\n",
       "</div>"
      ],
      "text/plain": [
       "      name_1      name_2                                           geometry\n",
       "0  Argentina  Montevideo  POLYGON ((-6472386.854 -3746485.160, -6471296....\n",
       "1    Uruguay  Montevideo  POLYGON ((-6074977.517 -3674819.184, -5987647....\n",
       "2     Brazil  Montevideo  POLYGON ((-5972351.238 -3898750.836, -5923264....\n",
       "3  Argentina    Asunción  POLYGON ((-6773408.599 -2721587.353, -6682393....\n",
       "4     Brazil    Asunción  POLYGON ((-6266274.282 -3336304.139, -6140637...."
      ]
     },
     "execution_count": 27,
     "metadata": {},
     "output_type": "execute_result"
    }
   ],
   "source": [
    "country_cores = countries.overlay(capitals, how='intersection')\n",
    "country_cores.head()"
   ]
  },
  {
   "cell_type": "code",
   "execution_count": 28,
   "id": "3bf5ffca",
   "metadata": {},
   "outputs": [
    {
     "data": {
      "text/plain": [
       "<AxesSubplot:>"
      ]
     },
     "execution_count": 28,
     "metadata": {},
     "output_type": "execute_result"
    },
    {
     "data": {
      "image/png": "[encoded data removed]",
      "text/plain": [
       "<Figure size 640x480 with 1 Axes>"
      ]
     },
     "metadata": {},
     "output_type": "display_data"
    }
   ],
   "source": [
    "country_cores.plot(alpha=0.5, edgecolor='k', cmap='tab10')"
   ]
  },
  {
   "cell_type": "markdown",
   "id": "b60d9406",
   "metadata": {},
   "source": [
    "### 改变 “how “参数可以进行不同类型的叠加操作。例如，如果我们对远离首都的国家部分（边缘地区）感兴趣，我们将计算两者的差值。"
   ]
  },
  {
   "cell_type": "code",
   "execution_count": 29,
   "id": "1e17b1df",
   "metadata": {},
   "outputs": [
    {
     "data": {
      "text/plain": [
       "<AxesSubplot:>"
      ]
     },
     "execution_count": 29,
     "metadata": {},
     "output_type": "execute_result"
    },
    {
     "data": {
      "image/png": "[encoded data removed]",
      "text/plain": [
       "<Figure size 640x480 with 1 Axes>"
      ]
     },
     "metadata": {},
     "output_type": "display_data"
    }
   ],
   "source": [
    "country_peripheries = countries.overlay(capitals, how='difference')\n",
    "\n",
    "country_peripheries.plot(alpha=0.5, edgecolor='k', cmap='tab10')"
   ]
  },
  {
   "cell_type": "code",
   "execution_count": null,
   "id": "0981c09f",
   "metadata": {},
   "outputs": [],
   "source": []
  },
  {
   "cell_type": "code",
   "execution_count": null,
   "id": "0ca19ac3",
   "metadata": {},
   "outputs": [],
   "source": []
  },
  {
   "cell_type": "code",
   "execution_count": null,
   "id": "c4000e88",
   "metadata": {},
   "outputs": [],
   "source": []
  },
  {
   "cell_type": "code",
   "execution_count": null,
   "id": "0cebf428",
   "metadata": {},
   "outputs": [],
   "source": []
  },
  {
   "cell_type": "code",
   "execution_count": null,
   "id": "905113f2",
   "metadata": {},
   "outputs": [],
   "source": []
  },
  {
   "cell_type": "code",
   "execution_count": null,
   "id": "8f890011",
   "metadata": {},
   "outputs": [],
   "source": []
  },
  {
   "cell_type": "code",
   "execution_count": null,
   "id": "3da4d419",
   "metadata": {},
   "outputs": [],
   "source": []
  },
  {
   "cell_type": "code",
   "execution_count": null,
   "id": "b6474167",
   "metadata": {},
   "outputs": [],
   "source": []
  }
 ],
 "metadata": {
  "kernelspec": {
   "display_name": "Python 3 (ipykernel)",
   "language": "python",
   "name": "python3"
  },
  "language_info": {
   "codemirror_mode": {
    "name": "ipython",
    "version": 3
   },
   "file_extension": ".py",
   "mimetype": "text/x-python",
   "name": "python",
   "nbconvert_exporter": "python",
   "pygments_lexer": "ipython3",
   "version": "3.9.16"
  }
 },
 "nbformat": 4,
 "nbformat_minor": 5
}
