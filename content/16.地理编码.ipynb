{
 "cells": [
  {
   "cell_type": "code",
   "execution_count": 1,
   "id": "4960bb17",
   "metadata": {},
   "outputs": [],
   "source": [
    "import geopandas as gpd"
   ]
  },
  {
   "cell_type": "markdown",
   "id": "8febb68b",
   "metadata": {},
   "source": [
    "### 读取数据"
   ]
  },
  {
   "cell_type": "code",
   "execution_count": 2,
   "id": "2f6ee6c4",
   "metadata": {},
   "outputs": [
    {
     "data": {
      "text/html": [
       "<div>\n",
       "<style scoped>\n",
       "    .dataframe tbody tr th:only-of-type {\n",
       "        vertical-align: middle;\n",
       "    }\n",
       "\n",
       "    .dataframe tbody tr th {\n",
       "        vertical-align: top;\n",
       "    }\n",
       "\n",
       "    .dataframe thead th {\n",
       "        text-align: right;\n",
       "    }\n",
       "</style>\n",
       "<table border=\"1\" class=\"dataframe\">\n",
       "  <thead>\n",
       "    <tr style=\"text-align: right;\">\n",
       "      <th></th>\n",
       "      <th>BoroCode</th>\n",
       "      <th>BoroName</th>\n",
       "      <th>Shape_Leng</th>\n",
       "      <th>Shape_Area</th>\n",
       "      <th>geometry</th>\n",
       "    </tr>\n",
       "  </thead>\n",
       "  <tbody>\n",
       "    <tr>\n",
       "      <th>0</th>\n",
       "      <td>5</td>\n",
       "      <td>Staten Island</td>\n",
       "      <td>330470.010332</td>\n",
       "      <td>1.623820e+09</td>\n",
       "      <td>MULTIPOLYGON (((970217.022 145643.332, 970227....</td>\n",
       "    </tr>\n",
       "    <tr>\n",
       "      <th>1</th>\n",
       "      <td>4</td>\n",
       "      <td>Queens</td>\n",
       "      <td>896344.047763</td>\n",
       "      <td>3.045213e+09</td>\n",
       "      <td>MULTIPOLYGON (((1029606.077 156073.814, 102957...</td>\n",
       "    </tr>\n",
       "    <tr>\n",
       "      <th>2</th>\n",
       "      <td>3</td>\n",
       "      <td>Brooklyn</td>\n",
       "      <td>741080.523166</td>\n",
       "      <td>1.937479e+09</td>\n",
       "      <td>MULTIPOLYGON (((1021176.479 151374.797, 102100...</td>\n",
       "    </tr>\n",
       "    <tr>\n",
       "      <th>3</th>\n",
       "      <td>1</td>\n",
       "      <td>Manhattan</td>\n",
       "      <td>359299.096471</td>\n",
       "      <td>6.364715e+08</td>\n",
       "      <td>MULTIPOLYGON (((981219.056 188655.316, 980940....</td>\n",
       "    </tr>\n",
       "    <tr>\n",
       "      <th>4</th>\n",
       "      <td>2</td>\n",
       "      <td>Bronx</td>\n",
       "      <td>464392.991824</td>\n",
       "      <td>1.186925e+09</td>\n",
       "      <td>MULTIPOLYGON (((1012821.806 229228.265, 101278...</td>\n",
       "    </tr>\n",
       "  </tbody>\n",
       "</table>\n",
       "</div>"
      ],
      "text/plain": [
       "   BoroCode       BoroName     Shape_Leng    Shape_Area  \\\n",
       "0         5  Staten Island  330470.010332  1.623820e+09   \n",
       "1         4         Queens  896344.047763  3.045213e+09   \n",
       "2         3       Brooklyn  741080.523166  1.937479e+09   \n",
       "3         1      Manhattan  359299.096471  6.364715e+08   \n",
       "4         2          Bronx  464392.991824  1.186925e+09   \n",
       "\n",
       "                                            geometry  \n",
       "0  MULTIPOLYGON (((970217.022 145643.332, 970227....  \n",
       "1  MULTIPOLYGON (((1029606.077 156073.814, 102957...  \n",
       "2  MULTIPOLYGON (((1021176.479 151374.797, 102100...  \n",
       "3  MULTIPOLYGON (((981219.056 188655.316, 980940....  \n",
       "4  MULTIPOLYGON (((1012821.806 229228.265, 101278...  "
      ]
     },
     "execution_count": 2,
     "metadata": {},
     "output_type": "execute_result"
    }
   ],
   "source": [
    "boros = gpd.read_file(\"./datasets/nybb_16a.zip\")\n",
    "boros"
   ]
  },
  {
   "cell_type": "code",
   "execution_count": 3,
   "id": "4473e1d7",
   "metadata": {},
   "outputs": [
    {
     "data": {
      "text/plain": [
       "0    Staten Island\n",
       "1           Queens\n",
       "2         Brooklyn\n",
       "3        Manhattan\n",
       "4            Bronx\n",
       "Name: BoroName, dtype: object"
      ]
     },
     "execution_count": 3,
     "metadata": {},
     "output_type": "execute_result"
    }
   ],
   "source": [
    "boros.BoroName"
   ]
  },
  {
   "cell_type": "markdown",
   "id": "d7705572",
   "metadata": {},
   "source": [
    "### 地理编码"
   ]
  },
  {
   "cell_type": "code",
   "execution_count": 4,
   "id": "4371533c",
   "metadata": {
    "scrolled": false
   },
   "outputs": [],
   "source": [
    "# 如果报错：ImportError: cannot import name 'encodestring' from 'base64'，可能需要更新 geopy 库\n",
    "boro_locations = gpd.tools.geocode(boros.BoroName)"
   ]
  },
  {
   "cell_type": "code",
   "execution_count": 5,
   "id": "d810805a",
   "metadata": {},
   "outputs": [
    {
     "data": {
      "text/html": [
       "<div>\n",
       "<style scoped>\n",
       "    .dataframe tbody tr th:only-of-type {\n",
       "        vertical-align: middle;\n",
       "    }\n",
       "\n",
       "    .dataframe tbody tr th {\n",
       "        vertical-align: top;\n",
       "    }\n",
       "\n",
       "    .dataframe thead th {\n",
       "        text-align: right;\n",
       "    }\n",
       "</style>\n",
       "<table border=\"1\" class=\"dataframe\">\n",
       "  <thead>\n",
       "    <tr style=\"text-align: right;\">\n",
       "      <th></th>\n",
       "      <th>geometry</th>\n",
       "      <th>address</th>\n",
       "    </tr>\n",
       "  </thead>\n",
       "  <tbody>\n",
       "    <tr>\n",
       "      <th>0</th>\n",
       "      <td>POINT (-74.14960 40.58346)</td>\n",
       "      <td>Staten Island, New York, New York, United States</td>\n",
       "    </tr>\n",
       "    <tr>\n",
       "      <th>1</th>\n",
       "      <td>POINT (-73.82831 40.71351)</td>\n",
       "      <td>Queens, New York, New York, United States</td>\n",
       "    </tr>\n",
       "    <tr>\n",
       "      <th>2</th>\n",
       "      <td>POINT (-73.94972 40.65260)</td>\n",
       "      <td>Brooklyn, New York, New York, United States</td>\n",
       "    </tr>\n",
       "    <tr>\n",
       "      <th>3</th>\n",
       "      <td>POINT (-73.95989 40.78962)</td>\n",
       "      <td>Manhattan, New York, New York, United States</td>\n",
       "    </tr>\n",
       "    <tr>\n",
       "      <th>4</th>\n",
       "      <td>POINT (-73.87859 40.84665)</td>\n",
       "      <td>The Bronx, New York, New York, United States</td>\n",
       "    </tr>\n",
       "  </tbody>\n",
       "</table>\n",
       "</div>"
      ],
      "text/plain": [
       "                     geometry  \\\n",
       "0  POINT (-74.14960 40.58346)   \n",
       "1  POINT (-73.82831 40.71351)   \n",
       "2  POINT (-73.94972 40.65260)   \n",
       "3  POINT (-73.95989 40.78962)   \n",
       "4  POINT (-73.87859 40.84665)   \n",
       "\n",
       "                                            address  \n",
       "0  Staten Island, New York, New York, United States  \n",
       "1         Queens, New York, New York, United States  \n",
       "2       Brooklyn, New York, New York, United States  \n",
       "3      Manhattan, New York, New York, United States  \n",
       "4      The Bronx, New York, New York, United States  "
      ]
     },
     "execution_count": 5,
     "metadata": {},
     "output_type": "execute_result"
    }
   ],
   "source": [
    "boro_locations"
   ]
  },
  {
   "cell_type": "code",
   "execution_count": 6,
   "id": "d692160a",
   "metadata": {},
   "outputs": [
    {
     "data": {
      "text/plain": [
       "<Derived Projected CRS: EPSG:2263>\n",
       "Name: NAD83 / New York Long Island (ftUS)\n",
       "Axis Info [cartesian]:\n",
       "- X[east]: Easting (US survey foot)\n",
       "- Y[north]: Northing (US survey foot)\n",
       "Area of Use:\n",
       "- name: United States (USA) - New York - counties of Bronx; Kings; Nassau; New York; Queens; Richmond; Suffolk.\n",
       "- bounds: (-74.26, 40.47, -71.8, 41.3)\n",
       "Coordinate Operation:\n",
       "- name: SPCS83 New York Long Island zone (US Survey feet)\n",
       "- method: Lambert Conic Conformal (2SP)\n",
       "Datum: North American Datum 1983\n",
       "- Ellipsoid: GRS 1980\n",
       "- Prime Meridian: Greenwich"
      ]
     },
     "execution_count": 6,
     "metadata": {},
     "output_type": "execute_result"
    }
   ],
   "source": [
    "boros.crs"
   ]
  },
  {
   "cell_type": "code",
   "execution_count": 7,
   "id": "bf63afbc",
   "metadata": {},
   "outputs": [
    {
     "data": {
      "text/plain": [
       "<Geographic 2D CRS: EPSG:4326>\n",
       "Name: WGS 84\n",
       "Axis Info [ellipsoidal]:\n",
       "- Lat[north]: Geodetic latitude (degree)\n",
       "- Lon[east]: Geodetic longitude (degree)\n",
       "Area of Use:\n",
       "- name: World.\n",
       "- bounds: (-180.0, -90.0, 180.0, 90.0)\n",
       "Datum: World Geodetic System 1984 ensemble\n",
       "- Ellipsoid: WGS 84\n",
       "- Prime Meridian: Greenwich"
      ]
     },
     "execution_count": 7,
     "metadata": {},
     "output_type": "execute_result"
    }
   ],
   "source": [
    "boro_locations.crs"
   ]
  },
  {
   "cell_type": "code",
   "execution_count": 8,
   "id": "6416c0a8",
   "metadata": {},
   "outputs": [
    {
     "data": {
      "text/plain": [
       "<AxesSubplot:>"
      ]
     },
     "execution_count": 8,
     "metadata": {},
     "output_type": "execute_result"
    },
    {
     "data": {
      "image/png": "[encoded data removed]",
      "text/plain": [
       "<Figure size 640x480 with 1 Axes>"
      ]
     },
     "metadata": {},
     "output_type": "display_data"
    }
   ],
   "source": [
    "import matplotlib.pyplot as plt\n",
    "\n",
    "fig , ax = plt.subplots()\n",
    "\n",
    "boros.to_crs(\"EPSG:4326\").plot(ax=ax , color=\"white\" , edgecolor=\"black\")\n",
    "boro_locations.plot(ax=ax , color=\"red\")"
   ]
  },
  {
   "cell_type": "code",
   "execution_count": null,
   "id": "026aebc5",
   "metadata": {},
   "outputs": [],
   "source": []
  },
  {
   "cell_type": "code",
   "execution_count": null,
   "id": "ae747547",
   "metadata": {},
   "outputs": [],
   "source": []
  },
  {
   "cell_type": "code",
   "execution_count": null,
   "id": "6ab13f3a",
   "metadata": {},
   "outputs": [],
   "source": []
  },
  {
   "cell_type": "code",
   "execution_count": null,
   "id": "b8b250c0",
   "metadata": {},
   "outputs": [],
   "source": []
  },
  {
   "cell_type": "code",
   "execution_count": null,
   "id": "f863c6df",
   "metadata": {},
   "outputs": [],
   "source": []
  },
  {
   "cell_type": "code",
   "execution_count": null,
   "id": "1011c59c",
   "metadata": {},
   "outputs": [],
   "source": []
  },
  {
   "cell_type": "code",
   "execution_count": null,
   "id": "960341cd",
   "metadata": {},
   "outputs": [],
   "source": []
  },
  {
   "cell_type": "code",
   "execution_count": null,
   "id": "0faf656f",
   "metadata": {},
   "outputs": [],
   "source": []
  },
  {
   "cell_type": "code",
   "execution_count": null,
   "id": "91607081",
   "metadata": {},
   "outputs": [],
   "source": []
  },
  {
   "cell_type": "code",
   "execution_count": null,
   "id": "673d3bdd",
   "metadata": {},
   "outputs": [],
   "source": []
  },
  {
   "cell_type": "code",
   "execution_count": null,
   "id": "5f0de614",
   "metadata": {},
   "outputs": [],
   "source": []
  },
  {
   "cell_type": "code",
   "execution_count": null,
   "id": "b4b6fbbf",
   "metadata": {},
   "outputs": [],
   "source": []
  },
  {
   "cell_type": "code",
   "execution_count": null,
   "id": "ac82789a",
   "metadata": {},
   "outputs": [],
   "source": []
  },
  {
   "cell_type": "code",
   "execution_count": null,
   "id": "69392cb1",
   "metadata": {},
   "outputs": [],
   "source": []
  },
  {
   "cell_type": "code",
   "execution_count": null,
   "id": "81bd076b",
   "metadata": {},
   "outputs": [],
   "source": []
  }
 ],
 "metadata": {
  "kernelspec": {
   "display_name": "Python 3 (ipykernel)",
   "language": "python",
   "name": "python3"
  },
  "language_info": {
   "codemirror_mode": {
    "name": "ipython",
    "version": 3
   },
   "file_extension": ".py",
   "mimetype": "text/x-python",
   "name": "python",
   "nbconvert_exporter": "python",
   "pygments_lexer": "ipython3",
   "version": "3.9.16"
  }
 },
 "nbformat": 4,
 "nbformat_minor": 5
}
